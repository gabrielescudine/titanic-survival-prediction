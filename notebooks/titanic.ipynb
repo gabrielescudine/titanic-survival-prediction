{
 "cells": [
  {
   "cell_type": "markdown",
   "id": "162bbb35",
   "metadata": {},
   "source": [
    "# Titanic Challenge\n",
    "- ..."
   ]
  },
  {
   "cell_type": "markdown",
   "id": "feafbf61",
   "metadata": {},
   "source": [
    "## Importing Libraries and Files"
   ]
  },
  {
   "cell_type": "code",
   "execution_count": 196,
   "id": "c2b358f3",
   "metadata": {},
   "outputs": [],
   "source": [
    "import pandas as pd\n",
    "import numpy as np\n",
    "import matplotlib.pyplot as plt\n",
    "import seaborn as sns\n",
    "\n",
    "from sklearn.model_selection import train_test_split, StratifiedKFold, cross_val_score\n",
    "from sklearn.preprocessing import StandardScaler\n",
    "from sklearn.linear_model import LogisticRegression\n",
    "from sklearn.ensemble import RandomForestClassifier, VotingClassifier\n",
    "import xgboost as xgb\n",
    "from sklearn.metrics import accuracy_score, f1_score, confusion_matrix"
   ]
  },
  {
   "cell_type": "code",
   "execution_count": 197,
   "id": "c716b0da",
   "metadata": {},
   "outputs": [],
   "source": [
    "pd.set_option('display.max_columns', None)\n",
    "pd.set_option('display.max_rows', 100)"
   ]
  },
  {
   "cell_type": "code",
   "execution_count": 198,
   "id": "2cc031a1",
   "metadata": {},
   "outputs": [],
   "source": [
    "train_data = pd.read_csv('../data/raw/train.csv')\n",
    "test_data = pd.read_csv('../data/raw/test.csv')\n",
    "sns.set_theme(style=\"whitegrid\", palette=\"muted\", font_scale=1.2)"
   ]
  },
  {
   "cell_type": "markdown",
   "id": "6e6f67f0",
   "metadata": {},
   "source": [
    "## Exploratory Data Analysis\n",
    "- ..."
   ]
  },
  {
   "cell_type": "code",
   "execution_count": 199,
   "id": "81729c13",
   "metadata": {},
   "outputs": [
    {
     "data": {
      "text/html": [
       "<div>\n",
       "<style scoped>\n",
       "    .dataframe tbody tr th:only-of-type {\n",
       "        vertical-align: middle;\n",
       "    }\n",
       "\n",
       "    .dataframe tbody tr th {\n",
       "        vertical-align: top;\n",
       "    }\n",
       "\n",
       "    .dataframe thead th {\n",
       "        text-align: right;\n",
       "    }\n",
       "</style>\n",
       "<table border=\"1\" class=\"dataframe\">\n",
       "  <thead>\n",
       "    <tr style=\"text-align: right;\">\n",
       "      <th></th>\n",
       "      <th>PassengerId</th>\n",
       "      <th>Survived</th>\n",
       "      <th>Pclass</th>\n",
       "      <th>Name</th>\n",
       "      <th>Sex</th>\n",
       "      <th>Age</th>\n",
       "      <th>SibSp</th>\n",
       "      <th>Parch</th>\n",
       "      <th>Ticket</th>\n",
       "      <th>Fare</th>\n",
       "      <th>Cabin</th>\n",
       "      <th>Embarked</th>\n",
       "    </tr>\n",
       "  </thead>\n",
       "  <tbody>\n",
       "    <tr>\n",
       "      <th>0</th>\n",
       "      <td>1</td>\n",
       "      <td>0</td>\n",
       "      <td>3</td>\n",
       "      <td>Braund, Mr. Owen Harris</td>\n",
       "      <td>male</td>\n",
       "      <td>22.0</td>\n",
       "      <td>1</td>\n",
       "      <td>0</td>\n",
       "      <td>A/5 21171</td>\n",
       "      <td>7.2500</td>\n",
       "      <td>NaN</td>\n",
       "      <td>S</td>\n",
       "    </tr>\n",
       "    <tr>\n",
       "      <th>1</th>\n",
       "      <td>2</td>\n",
       "      <td>1</td>\n",
       "      <td>1</td>\n",
       "      <td>Cumings, Mrs. John Bradley (Florence Briggs Th...</td>\n",
       "      <td>female</td>\n",
       "      <td>38.0</td>\n",
       "      <td>1</td>\n",
       "      <td>0</td>\n",
       "      <td>PC 17599</td>\n",
       "      <td>71.2833</td>\n",
       "      <td>C85</td>\n",
       "      <td>C</td>\n",
       "    </tr>\n",
       "    <tr>\n",
       "      <th>2</th>\n",
       "      <td>3</td>\n",
       "      <td>1</td>\n",
       "      <td>3</td>\n",
       "      <td>Heikkinen, Miss. Laina</td>\n",
       "      <td>female</td>\n",
       "      <td>26.0</td>\n",
       "      <td>0</td>\n",
       "      <td>0</td>\n",
       "      <td>STON/O2. 3101282</td>\n",
       "      <td>7.9250</td>\n",
       "      <td>NaN</td>\n",
       "      <td>S</td>\n",
       "    </tr>\n",
       "    <tr>\n",
       "      <th>3</th>\n",
       "      <td>4</td>\n",
       "      <td>1</td>\n",
       "      <td>1</td>\n",
       "      <td>Futrelle, Mrs. Jacques Heath (Lily May Peel)</td>\n",
       "      <td>female</td>\n",
       "      <td>35.0</td>\n",
       "      <td>1</td>\n",
       "      <td>0</td>\n",
       "      <td>113803</td>\n",
       "      <td>53.1000</td>\n",
       "      <td>C123</td>\n",
       "      <td>S</td>\n",
       "    </tr>\n",
       "    <tr>\n",
       "      <th>4</th>\n",
       "      <td>5</td>\n",
       "      <td>0</td>\n",
       "      <td>3</td>\n",
       "      <td>Allen, Mr. William Henry</td>\n",
       "      <td>male</td>\n",
       "      <td>35.0</td>\n",
       "      <td>0</td>\n",
       "      <td>0</td>\n",
       "      <td>373450</td>\n",
       "      <td>8.0500</td>\n",
       "      <td>NaN</td>\n",
       "      <td>S</td>\n",
       "    </tr>\n",
       "  </tbody>\n",
       "</table>\n",
       "</div>"
      ],
      "text/plain": [
       "   PassengerId  Survived  Pclass  \\\n",
       "0            1         0       3   \n",
       "1            2         1       1   \n",
       "2            3         1       3   \n",
       "3            4         1       1   \n",
       "4            5         0       3   \n",
       "\n",
       "                                                Name     Sex   Age  SibSp  \\\n",
       "0                            Braund, Mr. Owen Harris    male  22.0      1   \n",
       "1  Cumings, Mrs. John Bradley (Florence Briggs Th...  female  38.0      1   \n",
       "2                             Heikkinen, Miss. Laina  female  26.0      0   \n",
       "3       Futrelle, Mrs. Jacques Heath (Lily May Peel)  female  35.0      1   \n",
       "4                           Allen, Mr. William Henry    male  35.0      0   \n",
       "\n",
       "   Parch            Ticket     Fare Cabin Embarked  \n",
       "0      0         A/5 21171   7.2500   NaN        S  \n",
       "1      0          PC 17599  71.2833   C85        C  \n",
       "2      0  STON/O2. 3101282   7.9250   NaN        S  \n",
       "3      0            113803  53.1000  C123        S  \n",
       "4      0            373450   8.0500   NaN        S  "
      ]
     },
     "execution_count": 199,
     "metadata": {},
     "output_type": "execute_result"
    }
   ],
   "source": [
    "# Understanding the training data\n",
    "train_data.head()"
   ]
  },
  {
   "cell_type": "code",
   "execution_count": 200,
   "id": "7bb09bb7",
   "metadata": {},
   "outputs": [
    {
     "data": {
      "text/html": [
       "<div>\n",
       "<style scoped>\n",
       "    .dataframe tbody tr th:only-of-type {\n",
       "        vertical-align: middle;\n",
       "    }\n",
       "\n",
       "    .dataframe tbody tr th {\n",
       "        vertical-align: top;\n",
       "    }\n",
       "\n",
       "    .dataframe thead th {\n",
       "        text-align: right;\n",
       "    }\n",
       "</style>\n",
       "<table border=\"1\" class=\"dataframe\">\n",
       "  <thead>\n",
       "    <tr style=\"text-align: right;\">\n",
       "      <th></th>\n",
       "      <th>PassengerId</th>\n",
       "      <th>Pclass</th>\n",
       "      <th>Name</th>\n",
       "      <th>Sex</th>\n",
       "      <th>Age</th>\n",
       "      <th>SibSp</th>\n",
       "      <th>Parch</th>\n",
       "      <th>Ticket</th>\n",
       "      <th>Fare</th>\n",
       "      <th>Cabin</th>\n",
       "      <th>Embarked</th>\n",
       "    </tr>\n",
       "  </thead>\n",
       "  <tbody>\n",
       "    <tr>\n",
       "      <th>0</th>\n",
       "      <td>892</td>\n",
       "      <td>3</td>\n",
       "      <td>Kelly, Mr. James</td>\n",
       "      <td>male</td>\n",
       "      <td>34.5</td>\n",
       "      <td>0</td>\n",
       "      <td>0</td>\n",
       "      <td>330911</td>\n",
       "      <td>7.8292</td>\n",
       "      <td>NaN</td>\n",
       "      <td>Q</td>\n",
       "    </tr>\n",
       "    <tr>\n",
       "      <th>1</th>\n",
       "      <td>893</td>\n",
       "      <td>3</td>\n",
       "      <td>Wilkes, Mrs. James (Ellen Needs)</td>\n",
       "      <td>female</td>\n",
       "      <td>47.0</td>\n",
       "      <td>1</td>\n",
       "      <td>0</td>\n",
       "      <td>363272</td>\n",
       "      <td>7.0000</td>\n",
       "      <td>NaN</td>\n",
       "      <td>S</td>\n",
       "    </tr>\n",
       "    <tr>\n",
       "      <th>2</th>\n",
       "      <td>894</td>\n",
       "      <td>2</td>\n",
       "      <td>Myles, Mr. Thomas Francis</td>\n",
       "      <td>male</td>\n",
       "      <td>62.0</td>\n",
       "      <td>0</td>\n",
       "      <td>0</td>\n",
       "      <td>240276</td>\n",
       "      <td>9.6875</td>\n",
       "      <td>NaN</td>\n",
       "      <td>Q</td>\n",
       "    </tr>\n",
       "    <tr>\n",
       "      <th>3</th>\n",
       "      <td>895</td>\n",
       "      <td>3</td>\n",
       "      <td>Wirz, Mr. Albert</td>\n",
       "      <td>male</td>\n",
       "      <td>27.0</td>\n",
       "      <td>0</td>\n",
       "      <td>0</td>\n",
       "      <td>315154</td>\n",
       "      <td>8.6625</td>\n",
       "      <td>NaN</td>\n",
       "      <td>S</td>\n",
       "    </tr>\n",
       "    <tr>\n",
       "      <th>4</th>\n",
       "      <td>896</td>\n",
       "      <td>3</td>\n",
       "      <td>Hirvonen, Mrs. Alexander (Helga E Lindqvist)</td>\n",
       "      <td>female</td>\n",
       "      <td>22.0</td>\n",
       "      <td>1</td>\n",
       "      <td>1</td>\n",
       "      <td>3101298</td>\n",
       "      <td>12.2875</td>\n",
       "      <td>NaN</td>\n",
       "      <td>S</td>\n",
       "    </tr>\n",
       "  </tbody>\n",
       "</table>\n",
       "</div>"
      ],
      "text/plain": [
       "   PassengerId  Pclass                                          Name     Sex  \\\n",
       "0          892       3                              Kelly, Mr. James    male   \n",
       "1          893       3              Wilkes, Mrs. James (Ellen Needs)  female   \n",
       "2          894       2                     Myles, Mr. Thomas Francis    male   \n",
       "3          895       3                              Wirz, Mr. Albert    male   \n",
       "4          896       3  Hirvonen, Mrs. Alexander (Helga E Lindqvist)  female   \n",
       "\n",
       "    Age  SibSp  Parch   Ticket     Fare Cabin Embarked  \n",
       "0  34.5      0      0   330911   7.8292   NaN        Q  \n",
       "1  47.0      1      0   363272   7.0000   NaN        S  \n",
       "2  62.0      0      0   240276   9.6875   NaN        Q  \n",
       "3  27.0      0      0   315154   8.6625   NaN        S  \n",
       "4  22.0      1      1  3101298  12.2875   NaN        S  "
      ]
     },
     "execution_count": 200,
     "metadata": {},
     "output_type": "execute_result"
    }
   ],
   "source": [
    "test_data.head()"
   ]
  },
  {
   "cell_type": "code",
   "execution_count": 201,
   "id": "2076f6b8",
   "metadata": {},
   "outputs": [
    {
     "name": "stdout",
     "output_type": "stream",
     "text": [
      "Missing values in training data:\n",
      " PassengerId      0\n",
      "Survived         0\n",
      "Pclass           0\n",
      "Name             0\n",
      "Sex              0\n",
      "Age            177\n",
      "SibSp            0\n",
      "Parch            0\n",
      "Ticket           0\n",
      "Fare             0\n",
      "Cabin          687\n",
      "Embarked         2\n",
      "dtype: int64\n"
     ]
    }
   ],
   "source": [
    "# Checking for missing values\n",
    "print(\"Missing values in training data:\\n\", train_data.isnull().sum())"
   ]
  },
  {
   "cell_type": "code",
   "execution_count": 202,
   "id": "17d90bc5",
   "metadata": {},
   "outputs": [
    {
     "name": "stdout",
     "output_type": "stream",
     "text": [
      "Training data shape: (891, 12)\n"
     ]
    }
   ],
   "source": [
    "print(\"Training data shape:\", train_data.shape)"
   ]
  },
  {
   "cell_type": "code",
   "execution_count": 203,
   "id": "5be0bea6",
   "metadata": {},
   "outputs": [
    {
     "name": "stdout",
     "output_type": "stream",
     "text": [
      "Data types in training data:\n",
      " PassengerId      int64\n",
      "Survived         int64\n",
      "Pclass           int64\n",
      "Name            object\n",
      "Sex             object\n",
      "Age            float64\n",
      "SibSp            int64\n",
      "Parch            int64\n",
      "Ticket          object\n",
      "Fare           float64\n",
      "Cabin           object\n",
      "Embarked        object\n",
      "dtype: object\n"
     ]
    }
   ],
   "source": [
    "print(\"Data types in training data:\\n\", train_data.dtypes)"
   ]
  },
  {
   "cell_type": "markdown",
   "id": "7bc78fd3",
   "metadata": {},
   "source": [
    "..."
   ]
  },
  {
   "cell_type": "code",
   "execution_count": 204,
   "id": "34a107c3",
   "metadata": {},
   "outputs": [],
   "source": [
    "def plot_survival_by_sex(df):\n",
    "    temp = df.copy()\n",
    "    if 'Sex_male' in temp.columns:\n",
    "        temp['Sex'] = temp['Sex_male'].apply(lambda x: 'male' if x==1 else 'female')\n",
    "    plt.figure(figsize=(8,5))\n",
    "    sns.countplot(data=temp, x='Survived', hue='Sex')\n",
    "    plt.title(\"Survival Count by Sex\")\n",
    "    plt.xticks([0,1], ['Not Survived','Survived'])\n",
    "    plt.ylabel(\"Count\")\n",
    "    plt.show()\n",
    "\n",
    "\n",
    "def plot_survival_by_pclass(df):\n",
    "    temp = df.copy()\n",
    "    if 'Pclass' not in temp.columns:\n",
    "        print(\"⚠️ Pclass column not found in DataFrame.\")\n",
    "        return\n",
    "    plt.figure(figsize=(8,5))\n",
    "    sns.countplot(data=temp, x='Survived', hue='Pclass')\n",
    "    plt.title(\"Survival Count by Pclass\")\n",
    "    plt.xticks([0,1], ['Not Survived','Survived'])\n",
    "    plt.ylabel(\"Count\")\n",
    "    plt.show()\n",
    "\n",
    "\n",
    "def plot_age_distribution(df):\n",
    "    plt.figure(figsize=(8,5))\n",
    "    sns.histplot(data=df, x='Age', hue='Survived', bins=30, kde=False)\n",
    "    plt.title(\"Age Distribution by Survival\")\n",
    "    plt.show()\n",
    "\n",
    "\n",
    "def plot_family_size(df):\n",
    "    temp = df.copy()\n",
    "    if 'FamilySize' not in temp.columns:\n",
    "        temp['FamilySize'] = temp['SibSp'] + temp['Parch'] + 1\n",
    "    plt.figure(figsize=(10,5))\n",
    "    sns.countplot(data=temp, x='FamilySize', hue='Survived')\n",
    "    plt.title(\"Survival by Family Size\")\n",
    "    plt.show()\n",
    "\n",
    "\n",
    "def plot_fare_distribution(df):\n",
    "    plt.figure(figsize=(8,5))\n",
    "    sns.histplot(data=df, x='Fare', hue='Survived', bins=40, kde=False)\n",
    "    plt.title(\"Fare Distribution by Survival\")\n",
    "    plt.show()\n",
    "\n",
    "\n",
    "def plot_survival_by_embarked(df):\n",
    "    temp = df.copy()\n",
    "    # Recreate Embarked for plotting if one-hot encoded\n",
    "    if 'Embarked_Q' in temp.columns:\n",
    "        temp['Embarked'] = 'S'\n",
    "        temp.loc[temp['Embarked_Q']==1, 'Embarked'] = 'Q'\n",
    "        temp.loc[temp['Embarked_C']==1, 'Embarked'] = 'C'\n",
    "    plt.figure(figsize=(8,5))\n",
    "    sns.countplot(data=temp, x='Embarked', hue='Survived')\n",
    "    plt.title(\"Survival by Embarked Port\")\n",
    "    plt.show()\n",
    "\n",
    "\n",
    "def plot_sex_pclass_interaction(df):\n",
    "    temp = df.copy()\n",
    "    # Recreate Sex column\n",
    "    if 'Sex_male' in temp.columns:\n",
    "        temp['Sex'] = temp['Sex_male'].apply(lambda x: 'male' if x==1 else 'female')\n",
    "    sns.catplot(data=temp, x='Pclass', hue='Survived', col='Sex', kind='count', height=5, aspect=1.2)\n",
    "    plt.subplots_adjust(top=0.8)\n",
    "    plt.suptitle(\"Survival by Sex and Pclass\")\n",
    "    plt.show()\n",
    "\n",
    "\n",
    "def plot_cabin_features(df):\n",
    "    temp = df.copy()\n",
    "    if 'HasCabin' in temp.columns and 'CabinDeck_Unknown' in temp.columns:\n",
    "        # Recreate CabinDeck for plotting\n",
    "        cabin_columns = [col for col in temp.columns if col.startswith('CabinDeck_')]\n",
    "        temp['CabinDeck'] = 'Unknown'\n",
    "        for col in cabin_columns:\n",
    "            deck = col.split('_')[-1]\n",
    "            temp.loc[temp[col]==1, 'CabinDeck'] = deck\n",
    "        plt.figure(figsize=(8,5))\n",
    "        sns.countplot(data=temp, x='HasCabin', hue='Survived')\n",
    "        plt.title(\"Survival by HasCabin\")\n",
    "        plt.show()\n",
    "        \n",
    "        plt.figure(figsize=(10,5))\n",
    "        sns.countplot(data=temp, x='CabinDeck', hue='Survived')\n",
    "        plt.title(\"Survival by Cabin Deck\")\n",
    "        plt.show()\n",
    "    else:\n",
    "        print(\"⚠️ 'HasCabin' or 'CabinDeck' features not found in DataFrame.\")\n"
   ]
  },
  {
   "cell_type": "code",
   "execution_count": 205,
   "id": "c755e21f",
   "metadata": {},
   "outputs": [],
   "source": [
    "def run_full_eda(df):\n",
    "    \"\"\"\n",
    "    Executes all EDA functions on the provided DataFrame.\n",
    "    \"\"\"\n",
    "    print(\"✅ Survival by Sex\")\n",
    "    plot_survival_by_sex(df)\n",
    "    \n",
    "    print(\"✅ Survival by Pclass\")\n",
    "    plot_survival_by_pclass(df)\n",
    "    \n",
    "    print(\"✅ Survival by Sex and Pclass\")\n",
    "    plot_sex_pclass_interaction(df)\n",
    "    \n",
    "    print(\"✅ Age Distribution by Survival\")\n",
    "    plot_age_distribution(df)\n",
    "    \n",
    "    # print(\"✅ Survival by Family Size\")\n",
    "    # plot_family_size(df)\n",
    "    \n",
    "    print(\"✅ Fare Distribution by Survival\")\n",
    "    plot_fare_distribution(df)\n",
    "    \n",
    "    # print(\"✅ Survival by Embarked Port\")\n",
    "    # plot_survival_by_embarked(df)\n",
    "    \n",
    "    print(\"✅ Survival by Cabin Features\")\n",
    "    plot_cabin_features(df)\n"
   ]
  },
  {
   "cell_type": "code",
   "execution_count": 206,
   "id": "cade5bab",
   "metadata": {},
   "outputs": [
    {
     "data": {
      "image/png": "[encoded data removed]",
      "text/plain": [
       "<Figure size 800x500 with 1 Axes>"
      ]
     },
     "metadata": {},
     "output_type": "display_data"
    }
   ],
   "source": [
    "# Checking if Women were more likely to survive\n",
    "plot_survival_by_sex(train_data)"
   ]
  },
  {
   "cell_type": "code",
   "execution_count": 207,
   "id": "82c451bd",
   "metadata": {},
   "outputs": [
    {
     "data": {
      "text/html": [
       "<div>\n",
       "<style scoped>\n",
       "    .dataframe tbody tr th:only-of-type {\n",
       "        vertical-align: middle;\n",
       "    }\n",
       "\n",
       "    .dataframe tbody tr th {\n",
       "        vertical-align: top;\n",
       "    }\n",
       "\n",
       "    .dataframe thead th {\n",
       "        text-align: right;\n",
       "    }\n",
       "</style>\n",
       "<table border=\"1\" class=\"dataframe\">\n",
       "  <thead>\n",
       "    <tr style=\"text-align: right;\">\n",
       "      <th></th>\n",
       "      <th>Sex</th>\n",
       "      <th>Survived</th>\n",
       "    </tr>\n",
       "  </thead>\n",
       "  <tbody>\n",
       "    <tr>\n",
       "      <th>0</th>\n",
       "      <td>female</td>\n",
       "      <td>0.742038</td>\n",
       "    </tr>\n",
       "    <tr>\n",
       "      <th>1</th>\n",
       "      <td>male</td>\n",
       "      <td>0.188908</td>\n",
       "    </tr>\n",
       "  </tbody>\n",
       "</table>\n",
       "</div>"
      ],
      "text/plain": [
       "      Sex  Survived\n",
       "0  female  0.742038\n",
       "1    male  0.188908"
      ]
     },
     "execution_count": 207,
     "metadata": {},
     "output_type": "execute_result"
    }
   ],
   "source": [
    "# Seeing it in percentage\n",
    "train_data[['Sex', 'Survived']].groupby(['Sex'], as_index=False).mean().sort_values(by='Survived', ascending=False)"
   ]
  },
  {
   "cell_type": "code",
   "execution_count": 208,
   "id": "5a8a3a6d",
   "metadata": {},
   "outputs": [
    {
     "data": {
      "image/png": "[encoded data removed]",
      "text/plain": [
       "<Figure size 800x500 with 1 Axes>"
      ]
     },
     "metadata": {},
     "output_type": "display_data"
    }
   ],
   "source": [
    "# Checking if Pclass had an impact on survival\n",
    "plot_survival_by_pclass(train_data)"
   ]
  },
  {
   "cell_type": "code",
   "execution_count": 209,
   "id": "91390e2c",
   "metadata": {},
   "outputs": [
    {
     "data": {
      "text/html": [
       "<div>\n",
       "<style scoped>\n",
       "    .dataframe tbody tr th:only-of-type {\n",
       "        vertical-align: middle;\n",
       "    }\n",
       "\n",
       "    .dataframe tbody tr th {\n",
       "        vertical-align: top;\n",
       "    }\n",
       "\n",
       "    .dataframe thead th {\n",
       "        text-align: right;\n",
       "    }\n",
       "</style>\n",
       "<table border=\"1\" class=\"dataframe\">\n",
       "  <thead>\n",
       "    <tr style=\"text-align: right;\">\n",
       "      <th></th>\n",
       "      <th>Pclass</th>\n",
       "      <th>Survived</th>\n",
       "    </tr>\n",
       "  </thead>\n",
       "  <tbody>\n",
       "    <tr>\n",
       "      <th>0</th>\n",
       "      <td>1</td>\n",
       "      <td>0.629630</td>\n",
       "    </tr>\n",
       "    <tr>\n",
       "      <th>1</th>\n",
       "      <td>2</td>\n",
       "      <td>0.472826</td>\n",
       "    </tr>\n",
       "    <tr>\n",
       "      <th>2</th>\n",
       "      <td>3</td>\n",
       "      <td>0.242363</td>\n",
       "    </tr>\n",
       "  </tbody>\n",
       "</table>\n",
       "</div>"
      ],
      "text/plain": [
       "   Pclass  Survived\n",
       "0       1  0.629630\n",
       "1       2  0.472826\n",
       "2       3  0.242363"
      ]
     },
     "execution_count": 209,
     "metadata": {},
     "output_type": "execute_result"
    }
   ],
   "source": [
    "# Seeing it in percentage\n",
    "train_data[['Pclass', 'Survived']].groupby(['Pclass'], as_index=False).mean().sort_values(by='Survived', ascending=False)"
   ]
  },
  {
   "cell_type": "code",
   "execution_count": 210,
   "id": "11b7926d",
   "metadata": {},
   "outputs": [],
   "source": [
    "def preprocess_titanic_full(df: pd.DataFrame, scaler: StandardScaler = None, fit_scaler: bool = True) -> pd.DataFrame:\n",
    "    \"\"\"\n",
    "    Complete preprocessing for Titanic dataset:\n",
    "    - Fill missing values (Age, Fare, Embarked)\n",
    "    - Extract and simplify Title\n",
    "    - CabinDeck and HasCabin features\n",
    "    - Create FamilySize, IsAlone, FarePerPerson\n",
    "    - One-hot encode categorical features\n",
    "    - Scale numerical features (optional)\n",
    "    \n",
    "    Parameters:\n",
    "    - df: pd.DataFrame, input dataset\n",
    "    - scaler: StandardScaler, optional. If provided, used to scale numerical features\n",
    "    - fit_scaler: bool, if True, fit scaler on this dataset; otherwise, only transform\n",
    "    \n",
    "    Returns:\n",
    "    - pd.DataFrame: preprocessed dataset\n",
    "    \"\"\"\n",
    "    \n",
    "    dataset = df.copy()\n",
    "    \n",
    "    # --------------------------\n",
    "    # 1. Extract and simplify Title\n",
    "    # --------------------------\n",
    "    dataset['Title'] = dataset['Name'].str.extract(r' ([A-Za-z]+)\\.', expand=False)\n",
    "    \n",
    "    title_mapping = {\n",
    "        'Mlle': 'Miss', 'Ms': 'Miss', 'Mme': 'Mrs',\n",
    "        'Lady': 'Royalty', 'Countess': 'Royalty', 'Dona': 'Royalty',\n",
    "        'Dr': 'Officer', 'Major': 'Officer', 'Col': 'Officer', 'Capt': 'Officer',\n",
    "        'Rev': 'Officer', 'Sir': 'Royalty', 'Don': 'Royalty', 'Jonkheer': 'Royalty'\n",
    "    }\n",
    "    dataset['Title'] = dataset['Title'].replace(title_mapping)\n",
    "    \n",
    "    # --------------------------\n",
    "    # 2. Fill missing values\n",
    "    # --------------------------\n",
    "    dataset['Age'] = dataset.groupby(['Pclass','Title'])['Age'].transform(lambda x: x.fillna(x.median()))\n",
    "    \n",
    "    if dataset['Embarked'].isnull().sum() > 0:\n",
    "        dataset['Embarked'] = dataset['Embarked'].fillna(dataset['Embarked'].mode()[0])\n",
    "    \n",
    "    dataset['Fare'] = dataset.groupby('Pclass')['Fare'].transform(lambda x: x.fillna(x.median()))\n",
    "    \n",
    "    # --------------------------\n",
    "    # 3. Cabin features\n",
    "    # --------------------------\n",
    "    dataset['HasCabin'] = dataset['Cabin'].notna().astype(int)\n",
    "    dataset['CabinDeck'] = dataset['Cabin'].astype(str).str[0]\n",
    "    dataset['CabinDeck'] = dataset['CabinDeck'].replace('n', 'Unknown')\n",
    "    \n",
    "    # --------------------------\n",
    "    # 4. Family and Fare features\n",
    "    # --------------------------\n",
    "    dataset['FamilySize'] = dataset['SibSp'] + dataset['Parch'] + 1\n",
    "    dataset['IsAlone'] = (dataset['FamilySize'] == 1).astype(int)\n",
    "    dataset['FarePerPerson'] = dataset['Fare'] / dataset['FamilySize']\n",
    "    \n",
    "    # --------------------------\n",
    "    # 5. One-hot encoding\n",
    "    # --------------------------\n",
    "    categorical_features = ['Sex','Embarked','Title','CabinDeck']\n",
    "    dataset = pd.get_dummies(dataset, columns=categorical_features, drop_first=True)\n",
    "    \n",
    "    # --------------------------\n",
    "    # 6. Scaling numerical features\n",
    "    # --------------------------\n",
    "    numeric_features = ['Age','Fare','FamilySize','FarePerPerson']\n",
    "    \n",
    "    if scaler is None:\n",
    "        scaler = StandardScaler()\n",
    "    \n",
    "    if fit_scaler:\n",
    "        dataset[numeric_features] = scaler.fit_transform(dataset[numeric_features])\n",
    "    else:\n",
    "        dataset[numeric_features] = scaler.transform(dataset[numeric_features])\n",
    "    \n",
    "    return dataset, scaler\n"
   ]
  },
  {
   "cell_type": "code",
   "execution_count": 211,
   "id": "0afc6b5f",
   "metadata": {},
   "outputs": [
    {
     "name": "stdout",
     "output_type": "stream",
     "text": [
      "Processed training data shape: (891, 30)\n",
      "Processed test data shape: (418, 28)\n"
     ]
    }
   ],
   "source": [
    "train_processed, scaler = preprocess_titanic_full(train_data, fit_scaler=True)\n",
    "test_processed, _ = preprocess_titanic_full(test_data, scaler=scaler, fit_scaler=False)\n",
    "\n",
    "print(\"Processed training data shape:\", train_processed.shape)\n",
    "print(\"Processed test data shape:\", test_processed.shape)"
   ]
  },
  {
   "cell_type": "code",
   "execution_count": 212,
   "id": "2a780808",
   "metadata": {},
   "outputs": [
    {
     "name": "stdout",
     "output_type": "stream",
     "text": [
      "Train missing values:\n",
      " PassengerId            0\n",
      "Survived               0\n",
      "Pclass                 0\n",
      "Name                   0\n",
      "Age                    0\n",
      "SibSp                  0\n",
      "Parch                  0\n",
      "Ticket                 0\n",
      "Fare                   0\n",
      "Cabin                687\n",
      "HasCabin               0\n",
      "FamilySize             0\n",
      "IsAlone                0\n",
      "FarePerPerson          0\n",
      "Sex_male               0\n",
      "Embarked_Q             0\n",
      "Embarked_S             0\n",
      "Title_Miss             0\n",
      "Title_Mr               0\n",
      "Title_Mrs              0\n",
      "Title_Officer          0\n",
      "Title_Royalty          0\n",
      "CabinDeck_B            0\n",
      "CabinDeck_C            0\n",
      "CabinDeck_D            0\n",
      "CabinDeck_E            0\n",
      "CabinDeck_F            0\n",
      "CabinDeck_G            0\n",
      "CabinDeck_T            0\n",
      "CabinDeck_Unknown      0\n",
      "dtype: int64\n",
      "Test missing values:\n",
      " PassengerId            0\n",
      "Pclass                 0\n",
      "Name                   0\n",
      "Age                    0\n",
      "SibSp                  0\n",
      "Parch                  0\n",
      "Ticket                 0\n",
      "Fare                   0\n",
      "Cabin                327\n",
      "HasCabin               0\n",
      "FamilySize             0\n",
      "IsAlone                0\n",
      "FarePerPerson          0\n",
      "Sex_male               0\n",
      "Embarked_Q             0\n",
      "Embarked_S             0\n",
      "Title_Miss             0\n",
      "Title_Mr               0\n",
      "Title_Mrs              0\n",
      "Title_Officer          0\n",
      "Title_Royalty          0\n",
      "CabinDeck_B            0\n",
      "CabinDeck_C            0\n",
      "CabinDeck_D            0\n",
      "CabinDeck_E            0\n",
      "CabinDeck_F            0\n",
      "CabinDeck_G            0\n",
      "CabinDeck_Unknown      0\n",
      "dtype: int64\n"
     ]
    }
   ],
   "source": [
    "print(\"Train missing values:\\n\", train_processed.isnull().sum())\n",
    "print(\"Test missing values:\\n\", test_processed.isnull().sum())"
   ]
  },
  {
   "cell_type": "code",
   "execution_count": 213,
   "id": "b74ce9f4",
   "metadata": {},
   "outputs": [
    {
     "data": {
      "text/html": [
       "<div>\n",
       "<style scoped>\n",
       "    .dataframe tbody tr th:only-of-type {\n",
       "        vertical-align: middle;\n",
       "    }\n",
       "\n",
       "    .dataframe tbody tr th {\n",
       "        vertical-align: top;\n",
       "    }\n",
       "\n",
       "    .dataframe thead th {\n",
       "        text-align: right;\n",
       "    }\n",
       "</style>\n",
       "<table border=\"1\" class=\"dataframe\">\n",
       "  <thead>\n",
       "    <tr style=\"text-align: right;\">\n",
       "      <th></th>\n",
       "      <th>PassengerId</th>\n",
       "      <th>Survived</th>\n",
       "      <th>Pclass</th>\n",
       "      <th>Name</th>\n",
       "      <th>Age</th>\n",
       "      <th>SibSp</th>\n",
       "      <th>Parch</th>\n",
       "      <th>Ticket</th>\n",
       "      <th>Fare</th>\n",
       "      <th>Cabin</th>\n",
       "      <th>HasCabin</th>\n",
       "      <th>FamilySize</th>\n",
       "      <th>IsAlone</th>\n",
       "      <th>FarePerPerson</th>\n",
       "      <th>Sex_male</th>\n",
       "      <th>Embarked_Q</th>\n",
       "      <th>Embarked_S</th>\n",
       "      <th>Title_Miss</th>\n",
       "      <th>Title_Mr</th>\n",
       "      <th>Title_Mrs</th>\n",
       "      <th>Title_Officer</th>\n",
       "      <th>Title_Royalty</th>\n",
       "      <th>CabinDeck_B</th>\n",
       "      <th>CabinDeck_C</th>\n",
       "      <th>CabinDeck_D</th>\n",
       "      <th>CabinDeck_E</th>\n",
       "      <th>CabinDeck_F</th>\n",
       "      <th>CabinDeck_G</th>\n",
       "      <th>CabinDeck_T</th>\n",
       "      <th>CabinDeck_Unknown</th>\n",
       "    </tr>\n",
       "  </thead>\n",
       "  <tbody>\n",
       "    <tr>\n",
       "      <th>0</th>\n",
       "      <td>1</td>\n",
       "      <td>0</td>\n",
       "      <td>3</td>\n",
       "      <td>Braund, Mr. Owen Harris</td>\n",
       "      <td>-0.529231</td>\n",
       "      <td>1</td>\n",
       "      <td>0</td>\n",
       "      <td>A/5 21171</td>\n",
       "      <td>-0.502445</td>\n",
       "      <td>NaN</td>\n",
       "      <td>0</td>\n",
       "      <td>0.059160</td>\n",
       "      <td>0</td>\n",
       "      <td>-0.454798</td>\n",
       "      <td>True</td>\n",
       "      <td>False</td>\n",
       "      <td>True</td>\n",
       "      <td>False</td>\n",
       "      <td>True</td>\n",
       "      <td>False</td>\n",
       "      <td>False</td>\n",
       "      <td>False</td>\n",
       "      <td>False</td>\n",
       "      <td>False</td>\n",
       "      <td>False</td>\n",
       "      <td>False</td>\n",
       "      <td>False</td>\n",
       "      <td>False</td>\n",
       "      <td>False</td>\n",
       "      <td>True</td>\n",
       "    </tr>\n",
       "    <tr>\n",
       "      <th>1</th>\n",
       "      <td>2</td>\n",
       "      <td>1</td>\n",
       "      <td>1</td>\n",
       "      <td>Cumings, Mrs. John Bradley (Florence Briggs Th...</td>\n",
       "      <td>0.657200</td>\n",
       "      <td>1</td>\n",
       "      <td>0</td>\n",
       "      <td>PC 17599</td>\n",
       "      <td>0.786845</td>\n",
       "      <td>C85</td>\n",
       "      <td>1</td>\n",
       "      <td>0.059160</td>\n",
       "      <td>0</td>\n",
       "      <td>0.438994</td>\n",
       "      <td>False</td>\n",
       "      <td>False</td>\n",
       "      <td>False</td>\n",
       "      <td>False</td>\n",
       "      <td>False</td>\n",
       "      <td>True</td>\n",
       "      <td>False</td>\n",
       "      <td>False</td>\n",
       "      <td>False</td>\n",
       "      <td>True</td>\n",
       "      <td>False</td>\n",
       "      <td>False</td>\n",
       "      <td>False</td>\n",
       "      <td>False</td>\n",
       "      <td>False</td>\n",
       "      <td>False</td>\n",
       "    </tr>\n",
       "    <tr>\n",
       "      <th>2</th>\n",
       "      <td>3</td>\n",
       "      <td>1</td>\n",
       "      <td>3</td>\n",
       "      <td>Heikkinen, Miss. Laina</td>\n",
       "      <td>-0.232623</td>\n",
       "      <td>0</td>\n",
       "      <td>0</td>\n",
       "      <td>STON/O2. 3101282</td>\n",
       "      <td>-0.488854</td>\n",
       "      <td>NaN</td>\n",
       "      <td>0</td>\n",
       "      <td>-0.560975</td>\n",
       "      <td>1</td>\n",
       "      <td>-0.334757</td>\n",
       "      <td>False</td>\n",
       "      <td>False</td>\n",
       "      <td>True</td>\n",
       "      <td>True</td>\n",
       "      <td>False</td>\n",
       "      <td>False</td>\n",
       "      <td>False</td>\n",
       "      <td>False</td>\n",
       "      <td>False</td>\n",
       "      <td>False</td>\n",
       "      <td>False</td>\n",
       "      <td>False</td>\n",
       "      <td>False</td>\n",
       "      <td>False</td>\n",
       "      <td>False</td>\n",
       "      <td>True</td>\n",
       "    </tr>\n",
       "    <tr>\n",
       "      <th>3</th>\n",
       "      <td>4</td>\n",
       "      <td>1</td>\n",
       "      <td>1</td>\n",
       "      <td>Futrelle, Mrs. Jacques Heath (Lily May Peel)</td>\n",
       "      <td>0.434744</td>\n",
       "      <td>1</td>\n",
       "      <td>0</td>\n",
       "      <td>113803</td>\n",
       "      <td>0.420730</td>\n",
       "      <td>C123</td>\n",
       "      <td>1</td>\n",
       "      <td>0.059160</td>\n",
       "      <td>0</td>\n",
       "      <td>0.185187</td>\n",
       "      <td>False</td>\n",
       "      <td>False</td>\n",
       "      <td>True</td>\n",
       "      <td>False</td>\n",
       "      <td>False</td>\n",
       "      <td>True</td>\n",
       "      <td>False</td>\n",
       "      <td>False</td>\n",
       "      <td>False</td>\n",
       "      <td>True</td>\n",
       "      <td>False</td>\n",
       "      <td>False</td>\n",
       "      <td>False</td>\n",
       "      <td>False</td>\n",
       "      <td>False</td>\n",
       "      <td>False</td>\n",
       "    </tr>\n",
       "    <tr>\n",
       "      <th>4</th>\n",
       "      <td>5</td>\n",
       "      <td>0</td>\n",
       "      <td>3</td>\n",
       "      <td>Allen, Mr. William Henry</td>\n",
       "      <td>0.434744</td>\n",
       "      <td>0</td>\n",
       "      <td>0</td>\n",
       "      <td>373450</td>\n",
       "      <td>-0.486337</td>\n",
       "      <td>NaN</td>\n",
       "      <td>0</td>\n",
       "      <td>-0.560975</td>\n",
       "      <td>1</td>\n",
       "      <td>-0.331267</td>\n",
       "      <td>True</td>\n",
       "      <td>False</td>\n",
       "      <td>True</td>\n",
       "      <td>False</td>\n",
       "      <td>True</td>\n",
       "      <td>False</td>\n",
       "      <td>False</td>\n",
       "      <td>False</td>\n",
       "      <td>False</td>\n",
       "      <td>False</td>\n",
       "      <td>False</td>\n",
       "      <td>False</td>\n",
       "      <td>False</td>\n",
       "      <td>False</td>\n",
       "      <td>False</td>\n",
       "      <td>True</td>\n",
       "    </tr>\n",
       "  </tbody>\n",
       "</table>\n",
       "</div>"
      ],
      "text/plain": [
       "   PassengerId  Survived  Pclass  \\\n",
       "0            1         0       3   \n",
       "1            2         1       1   \n",
       "2            3         1       3   \n",
       "3            4         1       1   \n",
       "4            5         0       3   \n",
       "\n",
       "                                                Name       Age  SibSp  Parch  \\\n",
       "0                            Braund, Mr. Owen Harris -0.529231      1      0   \n",
       "1  Cumings, Mrs. John Bradley (Florence Briggs Th...  0.657200      1      0   \n",
       "2                             Heikkinen, Miss. Laina -0.232623      0      0   \n",
       "3       Futrelle, Mrs. Jacques Heath (Lily May Peel)  0.434744      1      0   \n",
       "4                           Allen, Mr. William Henry  0.434744      0      0   \n",
       "\n",
       "             Ticket      Fare Cabin  HasCabin  FamilySize  IsAlone  \\\n",
       "0         A/5 21171 -0.502445   NaN         0    0.059160        0   \n",
       "1          PC 17599  0.786845   C85         1    0.059160        0   \n",
       "2  STON/O2. 3101282 -0.488854   NaN         0   -0.560975        1   \n",
       "3            113803  0.420730  C123         1    0.059160        0   \n",
       "4            373450 -0.486337   NaN         0   -0.560975        1   \n",
       "\n",
       "   FarePerPerson  Sex_male  Embarked_Q  Embarked_S  Title_Miss  Title_Mr  \\\n",
       "0      -0.454798      True       False        True       False      True   \n",
       "1       0.438994     False       False       False       False     False   \n",
       "2      -0.334757     False       False        True        True     False   \n",
       "3       0.185187     False       False        True       False     False   \n",
       "4      -0.331267      True       False        True       False      True   \n",
       "\n",
       "   Title_Mrs  Title_Officer  Title_Royalty  CabinDeck_B  CabinDeck_C  \\\n",
       "0      False          False          False        False        False   \n",
       "1       True          False          False        False         True   \n",
       "2      False          False          False        False        False   \n",
       "3       True          False          False        False         True   \n",
       "4      False          False          False        False        False   \n",
       "\n",
       "   CabinDeck_D  CabinDeck_E  CabinDeck_F  CabinDeck_G  CabinDeck_T  \\\n",
       "0        False        False        False        False        False   \n",
       "1        False        False        False        False        False   \n",
       "2        False        False        False        False        False   \n",
       "3        False        False        False        False        False   \n",
       "4        False        False        False        False        False   \n",
       "\n",
       "   CabinDeck_Unknown  \n",
       "0               True  \n",
       "1              False  \n",
       "2               True  \n",
       "3              False  \n",
       "4               True  "
      ]
     },
     "execution_count": 213,
     "metadata": {},
     "output_type": "execute_result"
    }
   ],
   "source": [
    "train_processed.head()"
   ]
  },
  {
   "cell_type": "code",
   "execution_count": 214,
   "id": "b7bcec34",
   "metadata": {},
   "outputs": [
    {
     "name": "stdout",
     "output_type": "stream",
     "text": [
      "✅ Survival by Sex\n"
     ]
    },
    {
     "data": {
      "image/png": "[encoded data removed]",
      "text/plain": [
       "<Figure size 800x500 with 1 Axes>"
      ]
     },
     "metadata": {},
     "output_type": "display_data"
    },
    {
     "name": "stdout",
     "output_type": "stream",
     "text": [
      "✅ Survival by Pclass\n"
     ]
    },
    {
     "data": {
      "image/png": "[encoded data removed]",
      "text/plain": [
       "<Figure size 800x500 with 1 Axes>"
      ]
     },
     "metadata": {},
     "output_type": "display_data"
    },
    {
     "name": "stdout",
     "output_type": "stream",
     "text": [
      "✅ Survival by Sex and Pclass\n"
     ]
    },
    {
     "data": {
      "image/png": "[encoded data removed]",
      "text/plain": [
       "<Figure size 1292.42x500 with 2 Axes>"
      ]
     },
     "metadata": {},
     "output_type": "display_data"
    },
    {
     "name": "stdout",
     "output_type": "stream",
     "text": [
      "✅ Age Distribution by Survival\n"
     ]
    },
    {
     "data": {
      "image/png": "[encoded data removed]",
      "text/plain": [
       "<Figure size 800x500 with 1 Axes>"
      ]
     },
     "metadata": {},
     "output_type": "display_data"
    },
    {
     "name": "stdout",
     "output_type": "stream",
     "text": [
      "✅ Fare Distribution by Survival\n"
     ]
    },
    {
     "data": {
      "image/png": "[encoded data removed]",
      "text/plain": [
       "<Figure size 800x500 with 1 Axes>"
      ]
     },
     "metadata": {},
     "output_type": "display_data"
    },
    {
     "name": "stdout",
     "output_type": "stream",
     "text": [
      "✅ Survival by Cabin Features\n"
     ]
    },
    {
     "data": {
      "image/png": "[encoded data removed]",
      "text/plain": [
       "<Figure size 800x500 with 1 Axes>"
      ]
     },
     "metadata": {},
     "output_type": "display_data"
    },
    {
     "data": {
      "image/png": "[encoded data removed]",
      "text/plain": [
       "<Figure size 1000x500 with 1 Axes>"
      ]
     },
     "metadata": {},
     "output_type": "display_data"
    }
   ],
   "source": [
    "# Visualizing all the graphs after preprocessing\n",
    "\n",
    "run_full_eda(train_processed)"
   ]
  },
  {
   "cell_type": "code",
   "execution_count": 215,
   "id": "88647cad",
   "metadata": {},
   "outputs": [],
   "source": [
    "X_train = train_processed.drop(columns=['Survived', 'Name', 'Ticket', 'Cabin'])\n",
    "y_train = train_processed['Survived']\n",
    "\n",
    "X_test = test_processed.drop(columns=['PassengerId', 'Name', 'Ticket', 'Cabin'], axis=1)\n",
    "X_test = X_test.reindex(columns=X_train.columns, fill_value=0)"
   ]
  },
  {
   "cell_type": "code",
   "execution_count": 227,
   "id": "81e1e721",
   "metadata": {},
   "outputs": [],
   "source": [
    "# Testing the VoltingClassifier\n",
    "log_reg = LogisticRegression(max_iter=10000, random_state=42)\n",
    "rf_clf = RandomForestClassifier(n_estimators=500, random_state=42)\n",
    "xgb_clf = xgb.XGBClassifier(eval_metric='logloss', random_state=42)\n",
    "\n",
    "voting_clf = VotingClassifier(\n",
    "    estimators=[\n",
    "        ('lr', log_reg),\n",
    "        ('rf', rf_clf),\n",
    "        ('xgb', xgb_clf)\n",
    "    ],\n",
    "    voting='soft'\n",
    ")"
   ]
  },
  {
   "cell_type": "code",
   "execution_count": 228,
   "id": "51f6dbd6",
   "metadata": {},
   "outputs": [
    {
     "name": "stdout",
     "output_type": "stream",
     "text": [
      "LogisticRegression Average CV Accuracy: 0.8293 ± 0.0367\n",
      "RandomForestClassifier Average CV Accuracy: 0.8192 ± 0.0399\n",
      "XGBClassifier Average CV Accuracy: 0.8170 ± 0.0317\n",
      "VotingClassifier Average CV Accuracy: 0.8338 ± 0.0311\n"
     ]
    }
   ],
   "source": [
    "models = {\n",
    "    \"LogisticRegression\": LogisticRegression(max_iter=10000, random_state=42),\n",
    "    \"RandomForestClassifier\": RandomForestClassifier(n_estimators=500, random_state=42),\n",
    "    \"XGBClassifier\": xgb.XGBClassifier(eval_metric='logloss', random_state=42),\n",
    "    \"VotingClassifier\": voting_clf\n",
    "}\n",
    "\n",
    "skf = StratifiedKFold(n_splits=10, shuffle=True, random_state=42)\n",
    "\n",
    "for name, model in models.items():\n",
    "    scores = cross_val_score(model, X_train, y_train, cv=skf, scoring='accuracy')\n",
    "    print(f\"{name} Average CV Accuracy: {scores.mean():.4f} ± {scores.std():.4f}\")"
   ]
  },
  {
   "cell_type": "code",
   "execution_count": 229,
   "id": "877f07bf",
   "metadata": {},
   "outputs": [
    {
     "name": "stdout",
     "output_type": "stream",
     "text": [
      "Predictions on test set: [0 0 0 0 1 0 1 0 1 0 0 0 1 0 1 1 0 0 1 1 0 1 1 0 1 0 1 0 1 0 0 0 1 0 0 0 0\n",
      " 0 0 0 0 1 0 1 1 0 0 0 1 1 0 0 1 1 0 0 0 0 0 1 0 0 0 1 1 1 1 0 0 1 1 0 1 1\n",
      " 1 0 0 1 0 1 1 0 0 0 0 0 1 0 1 1 1 0 1 0 0 0 1 0 1 0 1 0 0 0 1 0 0 0 0 0 0\n",
      " 1 1 1 1 0 0 1 0 1 1 0 1 0 0 0 0 1 0 0 0 0 0 0 0 0 0 0 0 0 0 1 0 0 1 0 0 0\n",
      " 1 0 1 0 0 1 0 0 1 1 1 1 1 1 1 0 0 1 0 0 1 0 0 0 0 0 0 1 1 0 1 1 0 1 1 0 1\n",
      " 0 1 0 0 0 0 0 1 0 1 0 1 1 0 1 1 1 1 1 0 0 1 0 1 0 0 0 0 1 0 0 1 0 1 0 1 0\n",
      " 1 0 1 1 0 1 0 0 0 1 0 0 0 0 0 0 1 1 1 1 0 0 0 1 1 0 1 0 1 0 0 0 0 0 0 0 1\n",
      " 0 0 0 1 1 0 0 0 0 0 0 0 0 1 1 0 1 0 0 0 0 0 1 1 0 1 0 0 0 0 0 0 1 0 0 0 0\n",
      " 1 0 0 0 0 1 0 0 1 1 0 1 0 0 0 0 0 0 1 1 0 0 0 0 0 0 0 1 1 0 1 0 0 0 1 1 0\n",
      " 1 0 0 1 0 0 1 0 0 0 1 1 1 0 1 0 1 1 0 0 0 1 0 1 0 0 1 0 1 1 0 1 0 0 1 1 0\n",
      " 0 1 0 0 1 1 0 0 0 0 0 0 1 0 0 1 0 0 0 0 0 1 1 0 0 1 0 1 0 0 1 0 1 0 1 1 0\n",
      " 0 1 1 1 1 1 0 1 0 0 1]\n"
     ]
    }
   ],
   "source": [
    "final_model = voting_clf\n",
    "final_model.fit(X_train, y_train)\n",
    "predictions = final_model.predict(X_test)\n",
    "\n",
    "print(\"Predictions on test set:\", predictions)"
   ]
  },
  {
   "cell_type": "code",
   "execution_count": 219,
   "id": "584200d6",
   "metadata": {},
   "outputs": [],
   "source": [
    "from sklearn.metrics import accuracy_score, f1_score, confusion_matrix\n",
    "\n",
    "# y_pred_val = ensemble.predict(X_val)\n",
    "# print(\"Accuracy:\", accuracy_score(y_val, y_pred_val))\n",
    "# print(\"F1 Score:\", f1_score(y_val, y_pred_val))\n",
    "# print(\"Confusion Matrix:\\n\", confusion_matrix(y_val, y_pred_val))\n"
   ]
  },
  {
   "cell_type": "code",
   "execution_count": 223,
   "id": "68fa2fb8",
   "metadata": {},
   "outputs": [],
   "source": [
    "submission = pd.DataFrame({\n",
    "    'PassengerId': test_data['PassengerId'],\n",
    "    'Survived': predictions\n",
    "})\n",
    "\n",
    "submission.to_csv('../data/processed/submission.csv', index=False)"
   ]
  },
  {
   "cell_type": "code",
   "execution_count": null,
   "id": "090555b4",
   "metadata": {},
   "outputs": [],
   "source": []
  }
 ],
 "metadata": {
  "kernelspec": {
   "display_name": "venv",
   "language": "python",
   "name": "python3"
  },
  "language_info": {
   "codemirror_mode": {
    "name": "ipython",
    "version": 3
   },
   "file_extension": ".py",
   "mimetype": "text/x-python",
   "name": "python",
   "nbconvert_exporter": "python",
   "pygments_lexer": "ipython3",
   "version": "3.13.2"
  }
 },
 "nbformat": 4,
 "nbformat_minor": 5
}
